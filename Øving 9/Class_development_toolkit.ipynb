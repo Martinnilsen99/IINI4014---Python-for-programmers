{
 "metadata": {
  "language_info": {
   "codemirror_mode": {
    "name": "ipython",
    "version": 3
   },
   "file_extension": ".py",
   "mimetype": "text/x-python",
   "name": "python",
   "nbconvert_exporter": "python",
   "pygments_lexer": "ipython3",
   "version": "3.8.2-final"
  },
  "orig_nbformat": 2,
  "kernelspec": {
   "name": "Python 3.8.2 64-bit",
   "display_name": "Python 3.8.2 64-bit",
   "metadata": {
    "interpreter": {
     "hash": "082e9a3bcad0a290d0001e938aa60b99250c6c2ef33a923c00b70f9826caf4b7"
    }
   }
  }
 },
 "nbformat": 4,
 "nbformat_minor": 2,
 "cells": [
  {
   "source": [
    "## Øving 9\n",
    "### IINI4014 - Python for programmers\n",
    "\n",
    "Meningen med denne øvingen er å se på følgende [video](https://www.youtube.com/watch?v=HTLu2DFOdTg&amp;list=FLJpj9JO97RXNeiS1yV47URg&amp;index=20&amp;t=0s) fra PyCon 2013, hvor Raymond Hettinger snakker om \"Python's Class Development Toolkit\".\n",
    "\n"
   ],
   "cell_type": "markdown",
   "metadata": {}
  },
  {
   "source": [
    "## Docstring\n",
    "\n",
    "Første viktige punkt, ikke glem 'The elevator pitch'. Han har snakket om forskjellen mellom waterfall og agile arbeidsmetodikk, og hvordan det har endret måten vi jobber på. Jobber mer lean, og i iterasjoner. Får mer feedback ut av dette. Hva er det han skal frem til? Jo at en ønsker dokumentere koden sin. Første er å lage en beskrivelse i toppen av filen som viser hva du faktisk skal lage i programkoden som følger. Videre ser vi at han lager en teksstreng under et metodehode, dette for å forklare hva metoden gjør. En IDE i dag vil når du holder musepekeren over en metode vise frem denne tekststrengen som forklarer metoden. Dette for å slippe å åpne filen på nytt for å se hva den faktisk gjør. Sparer deg tid ved senere bruk!\n"
   ],
   "cell_type": "markdown",
   "metadata": {}
  },
  {
   "cell_type": "code",
   "execution_count": 101,
   "metadata": {},
   "outputs": [],
   "source": [
    "'''Dette er en elevator pitch, bruk den i toppen av en fil for å dokumentere koden!'''\n",
    "\n",
    "class Circle:\n",
    "    'An advanced circle analytic toolkit'"
   ]
  },
  {
   "source": [
    "\n",
    "## Litt om klassedefinisjoner\n",
    "\n",
    "\n",
    "Neste punkt er å arve fra object i metodehode. I Python 2.7 må en skrive `class Circle(object):`, men i Python 3.x arver den automatisk fra object ved å skrive `class Circle:` \n",
    "\n",
    "\n",
    "Neste punkt er at __init__ ikke er en konstruktør. Jobben dens er å initialisere variabler, og kun det. Den kaller jo på self, så objektet er allerede laget. Målet med __init__ er å tilegne variabler til dette objektet. Og self er kultur å skrive, det kan være 's', det kan være 'this', men vi bruker self.\n",
    "\n",
    "Der en definerer en klasse kan man gjøre alt mulig. Det er bare indented script. Trenger ikke bare være funksjoner, en kan kjøre printsetninger og lese inn fil og alt mulig. Dette er imot reglene i Java og C++, men Python er ikke de språkene. "
   ],
   "cell_type": "markdown",
   "metadata": {}
  },
  {
   "source": [
    "## Gjenbruk av kode\n",
    "\n",
    "Bruk importerte konstanter istedenfor tall dersom det er variabler. Eller sett parametere der de er synlige, kanskje øverst i filen. Ikke ha en rekke variabler over alt som man må lete etter. Ta for eksempel pi. Er den konstant? Ja den er sett på det, men hva om man finner ut at den ikke er 3.14 allikevel? Da er det bedre å ha brukt math.pi som endres, istedenfor å måtte gå gjennom egen kode og endre alle instanser. I tillegg så har man forskjell på 32bits og 64bits versjoner av Python. Svaret kan blir forskjellig dersom man selv lager en konstant. "
   ],
   "cell_type": "markdown",
   "metadata": {}
  },
  {
   "cell_type": "code",
   "execution_count": 102,
   "metadata": {},
   "outputs": [],
   "source": [
    "import math\n",
    "\n",
    "# Gjør slik\n",
    "def radius(r):\n",
    "    return math.pi * r ** 2\n",
    "\n",
    "# Ikke slik\n",
    "def radius(r):\n",
    "    return 3.14 * r ** 2\n"
   ]
  },
  {
   "source": [
    "\"Start med en minimal mengde kode i klassen, ikke lag mange metoder kun for å gjøre det\" - Hettinger\n",
    "\n",
    "Neste ting han ser på er klassevariabler, det setter du under klassedefinisjonen slik:\n"
   ],
   "cell_type": "markdown",
   "metadata": {}
  },
  {
   "cell_type": "code",
   "execution_count": 103,
   "metadata": {},
   "outputs": [],
   "source": [
    "class Circle:\n",
    "    'Definisjon av metoden'\n",
    "\n",
    "    version = '0.1' \n",
    "\n",
    "    def __init__(self, argument):\n",
    "        self.argument = argument"
   ]
  },
  {
   "source": [
    "## Tutorial\n",
    "Så skal han faktisk bruke denne kodebiten for å vise oss noe, så jeg definerer klassen Circle på nytt og følger det han gjør\n",
    "\n"
   ],
   "cell_type": "markdown",
   "metadata": {}
  },
  {
   "cell_type": "code",
   "execution_count": 104,
   "metadata": {},
   "outputs": [],
   "source": [
    "import math\n",
    "\n",
    "class Circle:\n",
    "    'An advanced circle analytic toolkit'\n",
    "    \n",
    "    version = '0.1' # Class variable\n",
    "\n",
    "    def __init__(self, radius):\n",
    "        self.radius = radius\n",
    "\n",
    "    def area(self):\n",
    "        'Perform quadrature on a shape of uniform radius'\n",
    "        return math.pi * self.radius ** 2.0\n"
   ]
  },
  {
   "cell_type": "code",
   "execution_count": 104,
   "metadata": {},
   "outputs": [],
   "source": [
    "# He does write this in a way that is not usable anymore because we do not have print() \n",
    "\"Minimum Viable product: Ship it!\"\n",
    "print 'Circuituous version', Circle.version\n",
    "c = Circle(10)\n",
    "print 'A circle of radius', c.radius\n",
    "print 'has an area of', c.area()\n",
    "print\n"
   ]
  },
  {
   "source": [
    "Lager en bedre versjon av denne under. I python 3 må man ha () på print, noe man ikke trengte i Python 2. Testet det i Python 2.7 og der fungerte det. Men en må nå bruke parentes som i andre språk. Om en ønsker slippe skrive flere bokstaver (Pythonmåten å tenke på), kan man f.eks skrive `p = print` og `p('Utskrift')`"
   ],
   "cell_type": "markdown",
   "metadata": {}
  },
  {
   "cell_type": "code",
   "execution_count": 105,
   "metadata": {},
   "outputs": [
    {
     "output_type": "stream",
     "name": "stdout",
     "text": [
      "Circuituous version 0.1\nA circle of radius 10 has an area of 314.1592653589793\n"
     ]
    }
   ],
   "source": [
    "\"Minimum Viable product: Ship it!\"\n",
    "print('Circuituous version', Circle.version)\n",
    "c = Circle(radius=10)\n",
    "print(f'A circle of radius {c.radius} has an area of {c.area()}')"
   ]
  },
  {
   "source": [
    "### First customer: Academia\n",
    "\n",
    "Note: `xrange` byttet jeg ut med `range` ettersom `xrange` er deprecated. Det var opprinnelig en forskjell ifht. hastighet og minnebruk, men i Python3 bruker man kun `range()`. Jeg gjorde også min egen vri på en del av koden da jeg synes dette så bedre ut. \n",
    "\n",
    "Hvorfor bruker de xrange i eksempelet? Minne, ettersom det er mer skalerbart\n",
    "Hvorfor bruker de seed? Jo for å kunne reprodusere de samme resultatene"
   ],
   "cell_type": "markdown",
   "metadata": {}
  },
  {
   "cell_type": "code",
   "execution_count": 106,
   "metadata": {},
   "outputs": [
    {
     "output_type": "stream",
     "name": "stdout",
     "text": [
      "Using Circuituous(tm) version 0.1\nThe average area of 10 random circles is 9.7\n"
     ]
    }
   ],
   "source": [
    "from random import random, seed\n",
    "\n",
    "seed(8675309)\n",
    "print('Using Circuituous(tm) version', Circle.version)\n",
    "n = 10\n",
    "circles = [Circle(random()) for i in range(n)]\n",
    "avg = sum([c.area() for c in circles])\n",
    "print(f'The average area of {n} random circles is {\"%.1f\" % (avg)}')"
   ]
  },
  {
   "source": [
    "### Second customer: Wants a perimeter method\n",
    "\n",
    "Han gjør igjen et poeng med at det nye firmaet ønsker en ny metode, og derfor utvider vi. Vi shipper ikke metoder vi tror du kommer til å få bruk for, men det vi vet du har bruk for. Så utvider vi bare ved behov."
   ],
   "cell_type": "markdown",
   "metadata": {}
  },
  {
   "cell_type": "code",
   "execution_count": 107,
   "metadata": {},
   "outputs": [],
   "source": [
    "class Circle:\n",
    "    'An advanced circle analytic toolkit'\n",
    "    \n",
    "    version = '0.2'\n",
    "\n",
    "    def __init__(self, radius):\n",
    "        self.radius = radius\n",
    "\n",
    "    def area(self):\n",
    "        'Perform quadrature on a shape of uniform radius'\n",
    "        return math.pi * self.radius ** 2.0\n",
    "\n",
    "    def perimeter(self):\n",
    "        return 2.0 * math.pi * self.radius"
   ]
  },
  {
   "cell_type": "code",
   "execution_count": 108,
   "metadata": {},
   "outputs": [
    {
     "output_type": "stream",
     "name": "stdout",
     "text": [
      "A circle with a radius of 0.1 has a perimeter of 0.6283185307179586 and a cold area of 0.031415926535897934\nand a warm area of 0.038013271108436504\nA circle with a radius of 0.7 has a perimeter of 4.39822971502571 and a cold area of 1.5393804002589984\nand a warm area of 1.8626502843133883\nA circle with a radius of 0.8 has a perimeter of 5.026548245743669 and a cold area of 2.0106192982974678\nand a warm area of 2.4328493509399363\n"
     ]
    }
   ],
   "source": [
    "cuts = [0.1, 0.7, 0.8]\n",
    "circles = [Circle(r) for r in cuts]\n",
    "for c in circles:\n",
    "    print(f\"A circle with a radius of {c.radius} has a perimeter of {c.perimeter()} and a cold area of {c.area()}\")\n",
    "    c.radius *= 1.1\n",
    "    print(f\"and a warm area of {c.area()}\")"
   ]
  },
  {
   "source": [
    "#### Observasjon\n",
    "Men vi ser nå at vi har radius utsatt, og derfor kan den endres på støtt og stadig og gi uventede resultater. Men han har et poeng her; I Java har man en grunnregel om å aldri ha objektvariabler tilgjengelig, men ha den privat med `get` og `set`-metoder. Da kan man styre tilgangen til dem. Men slik er det ikke i Python. Her er det vanlgi å la de væåre exposed, men man må være bevisst på det og hva det kan bety. Det er forskjellige språk og man skal ikke blande reglene mellom dem."
   ],
   "cell_type": "markdown",
   "metadata": {}
  },
  {
   "source": [
    "## Next customer: National tire chain"
   ],
   "cell_type": "markdown",
   "metadata": {}
  },
  {
   "cell_type": "code",
   "execution_count": 109,
   "metadata": {},
   "outputs": [
    {
     "output_type": "stream",
     "name": "stdout",
     "text": [
      "A tire of radius 22 has an inner area of 1520.53 and an odometer corrected perimeter of 172.79\n"
     ]
    }
   ],
   "source": [
    "class Tire(Circle):\n",
    "    'Tires are circles with a corrected perimeter'\n",
    "\n",
    "    def perimeter(self):\n",
    "        'Circumference corrected for the rubber'\n",
    "        return Circle.perimeter(self) * 1.25\n",
    "\n",
    "t = Tire(22)\n",
    "print(f\"A tire of radius {t.radius} has an inner area of {'%.2f' % t.area()} and an odometer corrected perimeter of {'%.2f' % t.perimeter()}\")"
   ]
  },
  {
   "source": [
    "Her ser vi at vi bruker arv. Vi har to ulike måter å kalle arv i Python, enten extending eller overwriting. Dersom vi kaller på parent blir det extending, hvis ikke overwriting. Vi ser i metoden perimeter at vi kaller på Circle's (parent) perimetermetode inni vår egen perimetermetode. Vi lar parent regne ut sin perimeter og så ganger vi den med 1.25. Vi som utviklere må forvente at noen kommer til å ta klassene våre og lage subklasser til det. Du har ingen anelse om hva folk kommer til å gjøre når koden din blir publisert.\n"
   ],
   "cell_type": "markdown",
   "metadata": {}
  },
  {
   "source": [
    "## Next customer: National graphics company"
   ],
   "cell_type": "markdown",
   "metadata": {}
  },
  {
   "cell_type": "code",
   "execution_count": 110,
   "metadata": {},
   "outputs": [
    {
     "output_type": "stream",
     "name": "stdout",
     "text": [
      "A circle with a bbd of 25.1 has a radius of 8.874190103891172 and an area of 247.4043484610132\n"
     ]
    }
   ],
   "source": [
    "# Må anta at man har en importert metode kalt bbd_to_radius fra deres API \n",
    "def bbd_to_radius(bbd):\n",
    "    return bbd / 2.0 / math.sqrt(2.0)\n",
    "\n",
    "bbd = 25.1\n",
    "c = Circle(bbd_to_radius(bbd))\n",
    "print(f\"A circle with a bbd of {bbd} has a radius of {c.radius} and an area of {c.area()}\")"
   ]
  },
  {
   "source": [
    "Dette APIet er rotete. En converter funksjon er alltid nødvendig. Kanskje endre på konstruktørsignatur?\n",
    "Dette kaller man en konstruktørkrig. La oss se på hva de virkelig ønsker. De ønsker konstruere en sirkel basert på bbd, ikke radius. La oss fikse det ved å legge til flere konstruktører. Det er vanlig å lage flere konstruktører. Man gjør det tilogmed i Python selv, bare se på dette eksempelet:"
   ],
   "cell_type": "markdown",
   "metadata": {}
  },
  {
   "cell_type": "code",
   "execution_count": 111,
   "metadata": {},
   "outputs": [
    {
     "output_type": "stream",
     "name": "stdout",
     "text": [
      "2013-03-16 00:00:00\n2013-03-15 22:40:16\n2010-08-16 00:00:00\n2020-10-26 14:24:03.440860\n{'Raymond': None, 'Rachel': None, 'Matthew': None}\n"
     ]
    }
   ],
   "source": [
    "from datetime import datetime\n",
    "\n",
    "print(datetime(2013, 3, 16))\n",
    "print(datetime.fromtimestamp(1363383616))\n",
    "print(datetime.fromordinal(734000))\n",
    "print(datetime.now())\n",
    "\n",
    "# Its also a method to create a dict from a list of keys, with constructor '.fromkeys'\n",
    "print(dict.fromkeys(['Raymond', 'Rachel', 'Matthew']))"
   ]
  },
  {
   "source": [
    "Man kan se at standarden er å ha en metode som starter på `.from[...]`. Man burde altså lage flere konstruktører. Bruk så `@classmethod` for å gjøre metoden tilgjengelig før objektet er laget, ettersom objektet skal lages med denne konstruktøren. "
   ],
   "cell_type": "markdown",
   "metadata": {}
  },
  {
   "cell_type": "code",
   "execution_count": 112,
   "metadata": {},
   "outputs": [],
   "source": [
    "class Circle:\n",
    "    'An advanced circle analytic toolkit'\n",
    "    \n",
    "    version = '0.3'\n",
    "\n",
    "    def __init__(self, radius):\n",
    "        self.radius = radius\n",
    "\n",
    "    def area(self):\n",
    "        'Perform quadrature on a shape of uniform radius'\n",
    "        return math.pi * self.radius ** 2.0\n",
    "\n",
    "    def perimeter(self):\n",
    "        return 2.0 * math.pi * self.radius\n",
    "\n",
    "    # En må ikke glemme de som kanskje har en subklasse, så en må ta inn klassen som parameter og bruke denne til å returnere et nytt objekt som er av riktig type\n",
    "    \"\"\"\n",
    "    @classmethod\n",
    "    def from_bbd(bbd): # Alternative constructor\n",
    "        'Construct a circle from a bounding box diagonal'\n",
    "        radius = bbd / 2.0 / math.sqrt(2.0)\n",
    "        return Circle(radius)\n",
    "    \"\"\"\n",
    "\n",
    "    @classmethod\n",
    "    def from_bbd(cls, bbd): # Alternative constructor\n",
    "        'Construct a circle from a bounding box diagonal'\n",
    "        radius = bbd / 2.0 / math.sqrt(2.0)\n",
    "        return cls(radius)\n",
    "    "
   ]
  },
  {
   "source": [
    "Oppsummert har man da at en ved en krig om konstruktører ønsker en å tilby alle en riktig konstruktør. Teknikken er å bruke klassemetoder `@classmethod` og man bruker klassen som parameter i tillegg til de tingene man trenger i den orginale/forenklede konstruktøren man kaller på. Man bruker cls som parameter her for å ivareta alle som lager en subklasse og også vil kunne ha bruk for metoden.  "
   ],
   "cell_type": "markdown",
   "metadata": {}
  },
  {
   "source": [
    "## New customer request: add a function"
   ],
   "cell_type": "markdown",
   "metadata": {}
  },
  {
   "cell_type": "code",
   "execution_count": 113,
   "metadata": {},
   "outputs": [],
   "source": [
    "def angle_to_grade(angle):\n",
    "    'Convert angle in degree to a percentage grade'\n",
    "    return math.tang(math.radians(angle)) * 100.0"
   ]
  },
  {
   "source": [
    "En må gjøre denne metoden tilgjengelig i klassen når man skal shippe den, for akkurat nå ligger den løs. Skal sies at i et API kan man definere metoder utenfor klasser og importere dem, men vi har også en annen approach. For dette kan være relevant for en Circle-klasse. Så da bare flytter vi den inn?\n"
   ],
   "cell_type": "markdown",
   "metadata": {}
  },
  {
   "cell_type": "code",
   "execution_count": 116,
   "metadata": {},
   "outputs": [],
   "source": [
    "class Circle:\n",
    "    'An advanced circle analytic toolkit'\n",
    "    \n",
    "    version = '0.4b' \n",
    "\n",
    "    def __init__(self, radius):\n",
    "        self.radius = radius\n",
    "    \n",
    "    def angle_to_grade(self, angle):\n",
    "        'Convert angle in degree to a percentage grade'\n",
    "        return math.tang(math.radians(angle)) * 100.0"
   ]
  },
  {
   "source": [
    "Men vi ser at self er ikke brukt. Men samtidig så må vi lage en instans av klassen som et objekt for å kjøre metoden? Det er ikke god praksis. Vi lager den istedenfor static. "
   ],
   "cell_type": "markdown",
   "metadata": {}
  },
  {
   "cell_type": "code",
   "execution_count": 117,
   "metadata": {},
   "outputs": [],
   "source": [
    "class Circle:\n",
    "    'An advanced circle analytic toolkit'\n",
    "    \n",
    "    version = '0.4' \n",
    "\n",
    "    def __init__(self, radius):\n",
    "        self.radius = radius\n",
    "    \n",
    "    @staticmethod\n",
    "    def angle_to_grade(angle):\n",
    "        'Convert angle in degree to a percentage grade'\n",
    "        return math.tang(math.radians(angle)) * 100.0"
   ]
  },
  {
   "source": [
    "Han nevner nå det jeg var inne på litt lengre opp, at hvorfor vil man ha en metode i en klasse som ikke har med objektet å gjøre direkte? Jo fordi kunder regner med at klassene har disse metodene, fordi de er relevante. Så vi legger til alle metodene i denne verkøtykassen av en klasse. "
   ],
   "cell_type": "markdown",
   "metadata": {}
  },
  {
   "source": [
    "## Government request: ISO-11110\n",
    "\n",
    "Det kommer ofte retningslinjer på hvordan ting burde gjøres, noe som kalles micromanagement. En ønsker kontrollere hvordan ting gjøres ved å observere, påminne eller sette restriksjoner på hva som kan gjøres. Dette er tilfelle her. Skal også legges til at restriksjoner ofte kommer av katastrofer, som f.eks Ariane 5 raketten som eksploderte etter 39 sekunder på grunn av en integer overflow. \n",
    "\n",
    "Ny restriksjon:\n",
    "\"Du kan ikke bruke radius, men du må kalle self.perimeter() inne i metoden for å regne ut area.\" (Dette er oppfunnet)\n",
    "\n",
    "Ny metode ser da slik ut:\n"
   ],
   "cell_type": "markdown",
   "metadata": {}
  },
  {
   "cell_type": "code",
   "execution_count": 121,
   "metadata": {},
   "outputs": [],
   "source": [
    "class Circle:\n",
    "    'An advanced circle analytic toolkit'\n",
    "    \n",
    "    version = '0.5b'\n",
    "\n",
    "    def __init__(self, radius):\n",
    "        self.radius = radius\n",
    "    \n",
    "    def area(self):\n",
    "        p = self.perimeter()\n",
    "        r = p / math.pi / 2.0\n",
    "        return math.pi * r * 2.0\n",
    "\n",
    "    def perimeter(self):\n",
    "        return 2.0 * math.pi * self.radius"
   ]
  },
  {
   "source": [
    "Men vi har et problem. Husk at self enten er et objekt av deg eller et childobjekt. Så for subklassen Tire som endrer perimeter-metoden vil denne nå ikke bli nøyaktig. Deres area()-metode er nå feil. Løsningen kan være å ha en lokal kopi i en parentklasse, slik:"
   ],
   "cell_type": "markdown",
   "metadata": {}
  },
  {
   "cell_type": "code",
   "execution_count": 123,
   "metadata": {},
   "outputs": [],
   "source": [
    "class Circle:\n",
    "    'An advanced circle analytic toolkit'\n",
    "    \n",
    "    version = '0.5c'\n",
    "\n",
    "    def __init__(self, radius):\n",
    "        self.radius = radius\n",
    "    \n",
    "    def area(self):\n",
    "        p = self.perimeter()\n",
    "        r = p / math.pi / 2.0\n",
    "        return math.pi * r * 2.0\n",
    "\n",
    "    def perimeter(self):\n",
    "        return 2.0 * math.pi * self.radius\n",
    "    \n",
    "    _perimeter = perimeter"
   ]
  },
  {
   "source": [
    "Dette er en god taktikk, frem til de som utvikler Tire velger at de også vil ta en lokal kopi av perimeter"
   ],
   "cell_type": "markdown",
   "metadata": {}
  },
  {
   "cell_type": "code",
   "execution_count": 124,
   "metadata": {},
   "outputs": [],
   "source": [
    "class Tire(Circle):\n",
    "    'Tires are circles with a corrected perimeter'\n",
    "\n",
    "    def perimeter(self):\n",
    "        'Circumference corrected for the rubber'\n",
    "        return Circle.perimeter(self) * 1.25\n",
    "\n",
    "    _perimeter = perimeter"
   ]
  },
  {
   "source": [
    "Nå blir det en krig med kopiering. Vi vet ikke lengre hvilken kopi vi bruker dersom vi prøver ta den i bruk. \n",
    "\n",
    "Løsningen på dette ville vært og brukt:\n",
    "- `_circle_perimeter` for Circle\n",
    "- `_tire_perimeter` for Tire \n",
    "\n",
    "Lurt? Ja det er en god ide. Men man har en egen måte i Python å gjøre dette enda bedre. Jo man har dobbel '__'\n",
    "\n",
    "`__perimeter` blir oversatt til `_circle_perimeter` for Circle og `_tire_perimeter` for Tire "
   ],
   "cell_type": "markdown",
   "metadata": {}
  },
  {
   "cell_type": "code",
   "execution_count": 125,
   "metadata": {},
   "outputs": [],
   "source": [
    "class Circle:\n",
    "    'An advanced circle analytic toolkit'\n",
    "    \n",
    "    version = '0.5'\n",
    "\n",
    "    def __init__(self, radius):\n",
    "        self.radius = radius\n",
    "    \n",
    "    def area(self):\n",
    "        p = self.__perimeter()\n",
    "        r = p / math.pi / 2.0\n",
    "        return math.pi * r * 2.0\n",
    "\n",
    "    def perimeter(self):\n",
    "        return 2.0 * math.pi * self.radius\n",
    "    \n",
    "    __perimeter = perimeter"
   ]
  },
  {
   "source": [
    "Dette blir som å prøve bruke private i andre språk, men i Python handler det om at man ikke endrer på `__`-variabler, det er vanlig kodeskikk. `_` og `__` er å bli sett på som objektvariabler og kun deres. Ved arv blir det da viktig å ta i bruk `__`\n",
    "\n",
    "Intensjonen med å bruke `__` er det motsatte av å gjøre ting privat, men heller med freedom. Muligheter til å gjøre hva man vil, men med det følger også et ansvar. Det gjør at subklasser kan overkjøre metoder, men vi må sørge for at dette ikke ødelegger for andre klasser\n"
   ],
   "cell_type": "markdown",
   "metadata": {}
  },
  {
   "source": [
    "## Government request: ISO-22220\n",
    "\n",
    "Nå kommer det enda en ny retningslinje. Man kan ikke lagre radius. Du må lagre diameteren istedenfor. Du kan bruke radius når du konstruerer, men du kan ikke lage radiusen selv. Hva gjør vi? Jo vi bruker nå en approach som likner på get og set fra Java. \n",
    "\n",
    "Med `@property` kan vi gjøre om for eksempel `objekt.radius` til `objekt.radius()`-metoden vi nå lager under. På denne måten kan vi endre .radius-attributtet til å være noe annet. Men samtidig trenger vi lagre diameteren, og hvordan gjør vi dette? Jo vi bruker `@radius.setter` der vi endrer måten radius blir satt på. \n",
    "\n",
    "Oppsummert:\n",
    "- `@property` blir som en get-metode\n",
    "- `@radius.setter` blir som en setmetode\n",
    "\n",
    "Vi ønsker ikke å lage get og set-metoder i Python. Vi vil at koden skal se pen ut. Trenger man dog endre på hvordan man setter noe eller hvordan man getter noe i etterkant, bruker man disse to teknikkene.\n",
    "\n",
    "Slik blir koden:"
   ],
   "cell_type": "markdown",
   "metadata": {}
  },
  {
   "cell_type": "code",
   "execution_count": 128,
   "metadata": {},
   "outputs": [],
   "source": [
    "class Circle:\n",
    "    'An advanced circle analytic toolkit'\n",
    "    \n",
    "    version = '0.6'\n",
    "\n",
    "    def __init__(self, radius):\n",
    "        self.radius = radius\n",
    "    \n",
    "    def area(self):\n",
    "        p = self.__perimeter()\n",
    "        r = p / math.pi / 2.0\n",
    "        return math.pi * r * 2.0\n",
    "\n",
    "    def perimeter(self):\n",
    "        return 2.0 * math.pi * self.radius\n",
    "    __perimeter = perimeter\n",
    "    \n",
    "    @property  # convert dotted access to method calls\n",
    "    def radius(self):\n",
    "        'Radius of a circle'\n",
    "        return self.diameter / 2.0\n",
    "\n",
    "    @radius.setter\n",
    "    def radius(self, radius):\n",
    "        self.diameter = radius * 2.0"
   ]
  },
  {
   "source": [
    "Koden ser mye finere ut. Du får uansett en fordel, for du slipper lage getter og setter-metoder. Klassen blir kortere, kjører fortere og APIer blir finere. Dette kan du kun gjøre i et dynamisk språk, og ikke i et kompilert et. "
   ],
   "cell_type": "markdown",
   "metadata": {}
  },
  {
   "source": [
    "## User request: Many circles\n",
    "\n",
    "Avslutningsvis tar han opp et problem med det å instantiere veldig mange objekter av klassen Circle. Circle lagrer kun radius, eller nå diameteren, men samtidig så tar hver instans nesten 300bytes hver! Følgende kode vil da ta lengre tid å kjøre enn den nødvendigvis burde:\n",
    "\n"
   ],
   "cell_type": "markdown",
   "metadata": {}
  },
  {
   "cell_type": "code",
   "execution_count": 129,
   "metadata": {},
   "outputs": [
    {
     "output_type": "stream",
     "name": "stdout",
     "text": [
      "Using Circuituous(tm) version 0.6\n",
      "The average area of 10000000 random circles is 31411267.3\n"
     ]
    }
   ],
   "source": [
    "n = 10_000_000\n",
    "\n",
    "seed(8675309)\n",
    "print('Using Circuituous(tm) version', Circle.version)\n",
    "circles = [Circle(random()) for i in range(n)]\n",
    "avg = sum([c.area() for c in circles])\n",
    "print(f'The average area of {n} random circles is {\"%.1f\" % (avg)}')"
   ]
  },
  {
   "source": [
    "Som vi ser ved å kjøre filen over tar den ganske lang tid å kjøre. Hva kan vi gjøre for å spare minneplass? Jo vi kan begrense hvor mye minne som blir allokert til klassen. Ettersom alle objekter i Python inneholder en dynamisk dictionary som gjør at en kan legge til attributter. Men en kan ta i bruke en metode kalt `__slots__` som hindrer nettopp dette. Viktig detalj er at denne optimaliseringen legger man til til slutt, aldri start med den! \n",
    "\n",
    "Når en lager et objekt i Python allokerer man ganske mye RAM, nettopp for å gjøre det mulig å legge til attributter senere. Men i en mindre klasse der vi vet endelig antall attributter kan man derfor bruke `__slots__` til å definere attributtene på forhånd og allokere minne deretter. Det vil da se slik ut:"
   ],
   "cell_type": "markdown",
   "metadata": {}
  },
  {
   "cell_type": "code",
   "execution_count": 130,
   "metadata": {},
   "outputs": [],
   "source": [
    "\"\"\" Flyweight design pattern: Slots\"\"\"\n",
    "\n",
    "class Circle:\n",
    "    'An advanced circle analytic toolkit'\n",
    "    \n",
    "    __slots__ = ['diameter']  # flyweight design pattern suppresses the instance dictionary\n",
    "    version = '0.7'\n",
    "\n",
    "    def __init__(self, radius):\n",
    "        self.radius = radius\n",
    "    \n",
    "    def area(self):\n",
    "        p = self.__perimeter()\n",
    "        r = p / math.pi / 2.0\n",
    "        return math.pi * r * 2.0\n",
    "\n",
    "    def perimeter(self):\n",
    "        return 2.0 * math.pi * self.radius\n",
    "    __perimeter = perimeter\n",
    "    \n",
    "    @property  # convert dotted access to method calls\n",
    "    def radius(self):\n",
    "        'Radius of a circle'\n",
    "        return self.diameter / 2.0\n",
    "\n",
    "    @radius.setter\n",
    "    def radius(self, radius):\n",
    "        self.diameter = radius * 2.0\n"
   ]
  },
  {
   "cell_type": "code",
   "execution_count": 131,
   "metadata": {},
   "outputs": [
    {
     "output_type": "stream",
     "name": "stdout",
     "text": [
      "Using Circuituous(tm) version 0.7\n",
      "The average area of 10000000 random circles is 31411267.3\n"
     ]
    }
   ],
   "source": [
    "n = 10_000_000\n",
    "\n",
    "seed(8675309)\n",
    "print('Using Circuituous(tm) version', Circle.version)\n",
    "circles = [Circle(random()) for i in range(n)]\n",
    "avg = sum([c.area() for c in circles])\n",
    "print(f'The average area of {n} random circles is {\"%.1f\" % (avg)}')"
   ]
  },
  {
   "source": [
    "Du gjør dette kun når du har hundretusener, kanskje millioner av instanser. Den allokerer kun en peker til hver av argumentene i listen slots, og ikke en hel dynamisk dictionary. Du gjør det til slutt, ikke til å starte med! Cache miss er kostbart, og derfor ønsker vi ikke \n",
    "allokere for mye. Et siste poeng han også kommer med er at __slots__ ikke påvirker subklasser. Her vil de unngå slots og lage en dynamisk dictionary istedenfor. \n",
    "\n",
    "En klasse har altså en dictionary med masse plass for å kunne tilegne attributter senere, en dict som kan hentes frem ved å kalle på et objekt med metoden `objekt.__dict__`. Med `objekt.__slots__` får man ikke lenger attributtet `__dict__`, men `__slots__` som er en liste med gitt størrelse. Du kan ikke da legge til attributter etter å ha initialisert objektet."
   ],
   "cell_type": "markdown",
   "metadata": {}
  },
  {
   "source": [
    "## Oppsummering\n",
    "\n",
    "1. Arv fra `objekt()` i Python2, i Python 3 gjøres dette automatisk\n",
    "2. `Objektvariabler` for informasjon som er unik for instansen. Lages i `__init__`\n",
    "3. `Klassevariabler` for data som er delt i mellom alle instansene\n",
    "4. `Vanlige metoder` trenger 'self' for å operere på data fra en instans\n",
    "5. `Lokale klassekall` bruker dobbel underscore. Dette gir subklasser friheten til å overkjøre metoder uten å ødelegge andre metoder. Her tar vi i bruk en lokal kopi på formen '__metode = metode' slik at den for hver klasse tar i bruk sin egen metode dersom man skulle overkjøre dem.\n",
    "6. `Klassemetoder` implementerer alternative konstruktører. De trenger 'cls'-argumentet så de kan brukes av subklasser til å lage objekter også. \n",
    "7. ´Statiske metoder´ tilegner funksjoner til klasser. De trenger hverken 'self' eller 'cls'. Disse metodene øker synlighet i et API og trenger kontekst for å blir spesifisert. \n",
    "8. En `@property` lar getter og settermetoder bli kalt automatisk ved aksess av et attributt (.attributt kaller da attributt() f.eks). Dette lar Pythonklasser fritt tilgjengeliggjøre deres objektvariabler, men dersom man trenger å begrense det bruker man property. En liten sidenote her er at vi bruker '\\_\\_' eller '_' for å kalle en objektvariabel \"privat\", ved at man ikke skal endre på attributter som har denne foran attributtnavnet sitt. Det er bare en skikk i Python, ikke begrensninger her. Kan kombineres med `@attributt.setter` og en metode med samme navn der man ikke returnerer men endrer attributtet istedenfor, som en vanlig setter i Java. \n",
    "9. '`__slots__`'-variabelen implementerer 'Flyweight Design Pattern' ved å begrense instansdictionarier, og erstatter disse med en minnebesparende liste. "
   ],
   "cell_type": "markdown",
   "metadata": {}
  }
 ]
}